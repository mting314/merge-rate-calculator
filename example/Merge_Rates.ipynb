{
 "cells": [
  {
   "cell_type": "code",
   "execution_count": 1,
   "metadata": {},
   "outputs": [],
   "source": [
    "import pandas as pd"
   ]
  },
  {
   "cell_type": "code",
   "execution_count": 2,
   "metadata": {},
   "outputs": [],
   "source": [
    "demo_data = pd.read_stata(\"demographic_data.dta\")[\"fips_tract_10\"]"
   ]
  },
  {
   "cell_type": "code",
   "execution_count": 3,
   "metadata": {},
   "outputs": [
    {
     "data": {
      "text/plain": [
       "0    1.001020e+09\n",
       "1    1.001020e+09\n",
       "2    1.001020e+09\n",
       "3    1.001020e+09\n",
       "4    1.001020e+09\n",
       "Name: fips_tract_10, dtype: float64"
      ]
     },
     "execution_count": 3,
     "metadata": {},
     "output_type": "execute_result"
    }
   ],
   "source": [
    "demo_data.head()"
   ]
  },
  {
   "cell_type": "code",
   "execution_count": 4,
   "metadata": {},
   "outputs": [],
   "source": [
    "test_data = pd.read_csv(\"Alachua_County_Dispatch_2009_geo_RR.csv\")"
   ]
  },
  {
   "cell_type": "code",
   "execution_count": 5,
   "metadata": {},
   "outputs": [],
   "source": [
    "from constants import list_off, time_name, dispatch_name, prio_name, desc_name,call_name"
   ]
  },
  {
   "cell_type": "code",
   "execution_count": 6,
   "metadata": {},
   "outputs": [],
   "source": [
    "# # standardize variable names for San Diego\n",
    "# if strpos(\"Greensboro\", \"`city'\") > 0 {\n",
    "#     df[\"priority_1\"] = df[desc_name_`cityname'}\n",
    "# }\n",
    "\n",
    "# # standardize description variable name for St. Paul \n",
    "# if \"St. Paul\" in city > 0:\n",
    "#     cap rename description ${desc_name_`cityname'}"
   ]
  },
  {
   "cell_type": "code",
   "execution_count": 44,
   "metadata": {},
   "outputs": [],
   "source": [
    "def determine_officer_initiated(df, city):\n",
    "    officer_initiated = 0\n",
    "    useless = [\"assist\",\"warrant\",\"chase\",\"foot\",\"pursuit\",\"traffic\",\"ETS\",\"routine\",\"executive\",\"parking\",\"walk-in\",\"fire\",\"mark-out\",\"driving\",\"truant\"]\n",
    "    useless.extend(list_off[city])\n",
    "    \n",
    "    description_col = desc_name[city]\n",
    "    \n",
    "    if \"N/A\" not in description_col:\n",
    "        description = df[description_col]\n",
    "        for word in useless:\n",
    "            if (all(item not in description.lower() for item in [\"fired\", \"gunfire\", \"firework\"])\n",
    "                and word in description.lower()):\n",
    "                    officer_initiated = 1\n",
    "            \n",
    "    if \"N/A\" not in dispatch_name[city] and any(item in city for item in [\"Detroit\",\"Los Angeles\",\"Mesa\",\"Portland\",\"Sandy\",\"Springs\"]):\n",
    "        if time_name[city] == dispatch_name[city]:\n",
    "            officer_initiated = 1 \n",
    "\n",
    "    if \"Elgin\" in city:\n",
    "        if \"F\" in prio_name[city]:\n",
    "            officer_initiated = 1 \n",
    "\n",
    "    if \"Harlingen\" in city:\n",
    "        officer_initiated = 0\n",
    "        if callsource.lower() == \"officer initiated\":\n",
    "            officer_initiated = 1 \n",
    "    \n",
    "    if \"Richmond\" in city:\n",
    "        if df[\"isselfinitiated\"] == \"No\": \n",
    "            officer_initiated = 0 \n",
    "        if df[\"isselfinititated\"] == \"No\": \n",
    "            officer_initiated = 0\n",
    "        if df[\"isselfinitiated\"] == \"Yes\":\n",
    "            officer_initiated = 1\n",
    "        if df[\"isselfinititated\"] == \"Yes\": \n",
    "            officer_initiated = 1 \n",
    "\n",
    "    if \"Norwalk\" in city:\n",
    "        officer_initiated = 0\n",
    "        if \"officer-initiated\" in dispo_name[\"cityname\"]:\n",
    "            officer_initiated = 1\n",
    "\n",
    "    if \"Reno\" in city or \"Sparks\" in city:\n",
    "        if description.lower() == \"t\":\n",
    "            officer_initiated = 1\n",
    "    \n",
    "    if \"San Mateo\" in city: \n",
    "        officer_initiated = 1 if df[\"sourceofcall\"] == \"Officer Initiated\" else 0\n",
    "    \n",
    "    if \"Tacoma\" in city:\n",
    "        officer_initiated = 1 if df[\"on_view\"] == 1 else 0\n",
    "        \n",
    "    return officer_initiated"
   ]
  },
  {
   "cell_type": "code",
   "execution_count": 45,
   "metadata": {
    "scrolled": true
   },
   "outputs": [
    {
     "data": {
      "text/plain": [
       "61417"
      ]
     },
     "execution_count": 45,
     "metadata": {},
     "output_type": "execute_result"
    }
   ],
   "source": [
    "test_data.columns = [x.lower().replace(\" \", \"_\") for x in test_data.columns]\n",
    "test_data[\"officer_initiated\"] = test_data.apply(determine_officer_initiated, city=\"Alachua_County\", axis=1)\n",
    "len(test_data.loc[test_data[\"officer_initiated\"] == 0])"
   ]
  },
  {
   "cell_type": "code",
   "execution_count": 48,
   "metadata": {},
   "outputs": [
    {
     "data": {
      "text/plain": [
       "0.9449663773873683"
      ]
     },
     "execution_count": 48,
     "metadata": {},
     "output_type": "execute_result"
    }
   ],
   "source": [
    "len(test_data.loc[test_data[\"officer_initiated\"] == 0].merge(demo_data, left_on=\"fips\", right_on=\"fips_tract_10\"))/61417"
   ]
  },
  {
   "cell_type": "code",
   "execution_count": 49,
   "metadata": {},
   "outputs": [
    {
     "data": {
      "text/html": [
       "<div>\n",
       "<style scoped>\n",
       "    .dataframe tbody tr th:only-of-type {\n",
       "        vertical-align: middle;\n",
       "    }\n",
       "\n",
       "    .dataframe tbody tr th {\n",
       "        vertical-align: top;\n",
       "    }\n",
       "\n",
       "    .dataframe thead th {\n",
       "        text-align: right;\n",
       "    }\n",
       "</style>\n",
       "<table border=\"1\" class=\"dataframe\">\n",
       "  <thead>\n",
       "    <tr style=\"text-align: right;\">\n",
       "      <th></th>\n",
       "      <th>city</th>\n",
       "      <th>year</th>\n",
       "      <th>filename</th>\n",
       "      <th>merge_rate</th>\n",
       "      <th>total_overall</th>\n",
       "      <th>state</th>\n",
       "    </tr>\n",
       "  </thead>\n",
       "  <tbody>\n",
       "    <tr>\n",
       "      <th>0</th>\n",
       "      <td>Alachua County</td>\n",
       "      <td>2009.0</td>\n",
       "      <td>alachua_county_dispatch_2009_geo_domvio_officer</td>\n",
       "      <td>0.944966</td>\n",
       "      <td>61417.0</td>\n",
       "      <td>FL</td>\n",
       "    </tr>\n",
       "  </tbody>\n",
       "</table>\n",
       "</div>"
      ],
      "text/plain": [
       "             city    year                                         filename  \\\n",
       "0  Alachua County  2009.0  alachua_county_dispatch_2009_geo_domvio_officer   \n",
       "\n",
       "   merge_rate  total_overall state  \n",
       "0    0.944966        61417.0    FL  "
      ]
     },
     "execution_count": 49,
     "metadata": {},
     "output_type": "execute_result"
    }
   ],
   "source": [
    "pd.read_stata(\"alachua_county_dispatch_2009_geo_merge_rates.dta\")"
   ]
  },
  {
   "cell_type": "code",
   "execution_count": null,
   "metadata": {},
   "outputs": [],
   "source": []
  }
 ],
 "metadata": {
  "kernelspec": {
   "display_name": "Python 3",
   "language": "python",
   "name": "python3"
  },
  "language_info": {
   "codemirror_mode": {
    "name": "ipython",
    "version": 3
   },
   "file_extension": ".py",
   "mimetype": "text/x-python",
   "name": "python",
   "nbconvert_exporter": "python",
   "pygments_lexer": "ipython3",
   "version": "3.8.5"
  }
 },
 "nbformat": 4,
 "nbformat_minor": 4
}
